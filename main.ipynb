{
 "cells": [
  {
   "cell_type": "code",
   "execution_count": 8,
   "metadata": {},
   "outputs": [],
   "source": [
    "import nltk\n",
    "import json\n",
    "import numpy as np\n",
    "import torch\n",
    "import torch.nn as nn\n",
    "from torch.utils.data import Dataset, DataLoader\n",
    "\n"
   ]
  },
  {
   "cell_type": "code",
   "execution_count": 9,
   "metadata": {},
   "outputs": [],
   "source": [
    "import nltk.stem.porter\n",
    "\n",
    "def tokenize(text):\n",
    "    return nltk.word_tokenize(text)\n",
    "\n",
    "\n",
    "def stem(word):\n",
    "    return nltk.stem.porter.PorterStemmer().stem(word)\n",
    "\n",
    "def bagOfWords(token,allWords):\n",
    "    tokenizeWords = [stem(word) for word in token]\n",
    "    bag = np.zeros(len(allWords),dtype=np.float32)\n",
    "    for idx ,word in enumerate(allWords):\n",
    "        if word in tokenizeWords:\n",
    "            bag[idx] = 1.0\n",
    "    return bag\n"
   ]
  },
  {
   "cell_type": "code",
   "execution_count": 10,
   "metadata": {},
   "outputs": [],
   "source": [
    "allWords = []\n",
    "tags = []\n",
    "xY = []\n",
    "with open(\"./intents.json\") as f :\n",
    "    data = json.load(f)\n",
    "\n",
    "for intent in data['intents']:\n",
    "    tag  = intent[\"tag\"]\n",
    "    tags.append(tag)\n",
    "    for pattern in intent[\"patterns\"]:\n",
    "        word = tokenize(pattern)\n",
    "        allWords.extend(word)\n",
    "        xY.append((word, tag))\n",
    "\n"
   ]
  },
  {
   "cell_type": "code",
   "execution_count": 11,
   "metadata": {},
   "outputs": [
    {
     "data": {
      "text/plain": [
       "['delivery', 'funny', 'goodbye', 'greeting', 'items', 'payments', 'thanks']"
      ]
     },
     "execution_count": 11,
     "metadata": {},
     "output_type": "execute_result"
    }
   ],
   "source": [
    "ignoreWords = ['?','!','.',',']\n",
    "allWords = [stem(word) for word in allWords if word not in ignoreWords]\n",
    "allWords = sorted(set(allWords))\n",
    "tags = sorted(set(tags))\n",
    "tags\n"
   ]
  },
  {
   "cell_type": "code",
   "execution_count": 12,
   "metadata": {},
   "outputs": [
    {
     "data": {
      "text/plain": [
       "array([[0., 0., 1., ..., 0., 0., 0.],\n",
       "       [0., 0., 0., ..., 0., 0., 0.],\n",
       "       [0., 0., 0., ..., 0., 0., 1.],\n",
       "       ...,\n",
       "       [0., 0., 0., ..., 0., 0., 0.],\n",
       "       [0., 0., 0., ..., 0., 0., 0.],\n",
       "       [0., 1., 0., ..., 0., 0., 1.]], dtype=float32)"
      ]
     },
     "execution_count": 12,
     "metadata": {},
     "output_type": "execute_result"
    }
   ],
   "source": [
    "\n",
    "xTrain ,yTrain = [] , []\n",
    "for (x,y) in xY:\n",
    "    bag = bagOfWords(x,allWords)\n",
    "    xTrain.append(bag)\n",
    "    yTrain.append(tags.index(y)) \n",
    "xTrain = np.array(xTrain)\n",
    "yTrain = np.array(yTrain)\n",
    "xTrain\n"
   ]
  },
  {
   "cell_type": "code",
   "execution_count": 13,
   "metadata": {},
   "outputs": [
    {
     "data": {
      "text/plain": [
       "(array([0., 0., 1., 0., 0., 0., 0., 0., 0., 0., 0., 0., 0., 0., 0., 0., 0.,\n",
       "        0., 0., 0., 0., 0., 0., 0., 0., 0., 0., 0., 0., 0., 0., 0., 0., 0.,\n",
       "        0., 0., 0., 0., 0., 0., 0., 0., 0., 0., 0., 0., 0., 0., 0., 0., 0.,\n",
       "        0., 0., 0., 0.], dtype=float32),\n",
       " 3)"
      ]
     },
     "execution_count": 13,
     "metadata": {},
     "output_type": "execute_result"
    }
   ],
   "source": [
    "class Datasets(Dataset):\n",
    "    def __init__(self):\n",
    "        self.numberOfClasses = len(xTrain)\n",
    "        self.xTrain = xTrain\n",
    "        self.yTrain = yTrain\n",
    "    def __getitem__(self, index):\n",
    "        return (self.xTrain[index] , self.yTrain[index])\n",
    "    def __len__(self):\n",
    "        return self.numberOfClasses\n",
    "\n",
    "dataSet = Datasets()\n",
    "next(iter(dataSet))\n",
    "\n"
   ]
  },
  {
   "cell_type": "code",
   "execution_count": 14,
   "metadata": {},
   "outputs": [],
   "source": [
    "trainLoader = DataLoader(dataSet,batch_size=32)\n"
   ]
  },
  {
   "cell_type": "code",
   "execution_count": 15,
   "metadata": {},
   "outputs": [],
   "source": [
    "class Model(nn.Module):\n",
    "    def __init__(self,input,hiddenSize,numClasses):\n",
    "        super().__init__()\n",
    "        self.Liner1 = nn.Linear(input,hiddenSize)\n",
    "        self.Liner2 = nn.Linear(hiddenSize,hiddenSize)\n",
    "        self.Liner3 = nn.Linear(hiddenSize,numClasses)\n",
    "        self.Relu = nn.ReLU()\n",
    "    def forward(self,x):\n",
    "        x = self.Relu(self.Liner1(x))\n",
    "        x = self.Relu(self.Liner2(x))\n",
    "        x = self.Liner3(x)\n",
    "        return x\n",
    "\n",
    "\n",
    "\n"
   ]
  },
  {
   "cell_type": "code",
   "execution_count": 16,
   "metadata": {},
   "outputs": [
    {
     "data": {
      "text/plain": [
       "55"
      ]
     },
     "execution_count": 16,
     "metadata": {},
     "output_type": "execute_result"
    }
   ],
   "source": [
    "len(xTrain[0])\n"
   ]
  },
  {
   "cell_type": "code",
   "execution_count": 17,
   "metadata": {},
   "outputs": [
    {
     "data": {
      "text/plain": [
       "(26, 55)"
      ]
     },
     "execution_count": 17,
     "metadata": {},
     "output_type": "execute_result"
    }
   ],
   "source": [
    "xTrain.shape\n"
   ]
  },
  {
   "cell_type": "code",
   "execution_count": 18,
   "metadata": {},
   "outputs": [],
   "source": [
    "\n",
    "model = Model(55,256,7).to(\"cuda\")\n",
    "lossFun = nn.CrossEntropyLoss()\n",
    "optim = torch.optim.Adam(model.parameters(),lr=0.001)\n"
   ]
  },
  {
   "cell_type": "code",
   "execution_count": 19,
   "metadata": {},
   "outputs": [
    {
     "name": "stdout",
     "output_type": "stream",
     "text": [
      " Loss: 0.0001\n"
     ]
    }
   ],
   "source": [
    "for epoch in range(500):\n",
    "    for x, y in trainLoader:\n",
    "        x, y = x.to(\"cuda\"), y.to(\"cuda\")\n",
    "        optim.zero_grad()\n",
    "        outputs = model(x)\n",
    "        loss = lossFun(outputs, y)\n",
    "        loss.backward()\n",
    "        optim.step()\n",
    "\n",
    "print(f' Loss: {loss.item():.4f}')\n",
    "\n",
    "\n"
   ]
  },
  {
   "cell_type": "code",
   "execution_count": 20,
   "metadata": {},
   "outputs": [],
   "source": [
    "torch.save(model,\"model.pt\")\n"
   ]
  },
  {
   "cell_type": "code",
   "execution_count": 21,
   "metadata": {},
   "outputs": [
    {
     "data": {
      "text/plain": [
       "Model(\n",
       "  (Liner1): Linear(in_features=55, out_features=256, bias=True)\n",
       "  (Liner2): Linear(in_features=256, out_features=256, bias=True)\n",
       "  (Liner3): Linear(in_features=256, out_features=7, bias=True)\n",
       "  (Relu): ReLU()\n",
       ")"
      ]
     },
     "execution_count": 21,
     "metadata": {},
     "output_type": "execute_result"
    }
   ],
   "source": [
    "Models = torch.load(\"./model.pt\")\n",
    "Models\n"
   ]
  },
  {
   "cell_type": "code",
   "execution_count": 22,
   "metadata": {},
   "outputs": [],
   "source": [
    "import random\n"
   ]
  },
  {
   "cell_type": "code",
   "execution_count": 23,
   "metadata": {},
   "outputs": [
    {
     "name": "stdout",
     "output_type": "stream",
     "text": [
      "let's go type quit for exit\n",
      "HaSoNa : Hey :-)\n",
      "HaSoNa : What did the buffalo say when his son left for college? Bison.\n",
      "HaSoNa : I didn't understand that\n"
     ]
    }
   ],
   "source": [
    "Models.eval()\n",
    "botName = \"HaSoNa\"\n",
    "print(\"let's go type quit for exit\")\n",
    "while True:\n",
    "    message = input(\"You: \")\n",
    "    if message.lower() == \"quit\":\n",
    "        break\n",
    "    message = tokenize(message)\n",
    "    x = bagOfWords(message,allWords)\n",
    "    x = x.reshape(1,x.shape[0])\n",
    "    x = torch.tensor(x).to(\"cuda\")\n",
    "    output = Models(x)\n",
    "    _ , predicted = torch.max(output,1)\n",
    "    tag = tags[predicted.item()]\n",
    "    probs = torch.softmax(output,dim=1)\n",
    "    prob = probs[0][predicted.item()]\n",
    "    if prob.item() > 0.75:\n",
    "        for intent in data[\"intents\"]:\n",
    "            if tag == intent[\"tag\"]:\n",
    "                print(f\"{botName} : {random.choice(intent['responses'])}\")\n",
    "    else :\\\n",
    "        print(f\"{botName} : I didn't understand that\")\n"
   ]
  }
 ],
 "metadata": {
  "kernelspec": {
   "display_name": "computerVision",
   "language": "python",
   "name": "python3"
  },
  "language_info": {
   "codemirror_mode": {
    "name": "ipython",
    "version": 3
   },
   "file_extension": ".py",
   "mimetype": "text/x-python",
   "name": "python",
   "nbconvert_exporter": "python",
   "pygments_lexer": "ipython3",
   "version": "3.9.19"
  }
 },
 "nbformat": 4,
 "nbformat_minor": 2
}
